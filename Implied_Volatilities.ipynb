{
 "cells": [
  {
   "cell_type": "markdown",
   "metadata": {},
   "source": [
    "## Using The Black-Scholes Model to Calculate Implied Volatilities\n",
    "#### Using VSTOXX volatility options data and the Black-Scholes options pricing model this program attempts to numerically calculate implied volatility.\n",
    "\n",
    "\n",
    "Namely this program uses:\n",
    "\n",
    "\n",
    "$$C(S_{t}, K, t, T, r, \\sigma) = S_{t}*N(d_{1})-e^{-r(T-t)}*K*N(d_{2})$$\n",
    "where,\n",
    "\n",
    "\n",
    "$$ N(d) = \\frac{1}{\\sqrt{2\\pi}}\\int_{- \\infty}^{d}e^{-\\frac{1}{2}x^{2}}dx $$\n",
    "\n",
    "\n",
    "$$ d_{1} = d_{2} = \\frac{\\log \\frac{S_{t}}{K} + (r - \\frac{\\sigma^{2}}{2})(T-t)}{\\sigma\\sqrt{T-t}} $$\n",
    "such that,\n",
    "$S_{t}$ is the price at time $t$, \n",
    "$\\sigma$ is the standard deviation of returns,\n",
    "$K$ is the strike price,\n",
    "$T$ is the maturity date, and\n",
    "$r$ is the riskless short rate.\n",
    "\n",
    "The model assumes that a quote is given for the option $C^{*}$ and that $\\sigma^{\\text{imp}}$ is the value that solves the above equation. I.e.\n",
    "\n",
    "\n",
    "$$C(S_{t}, K, t, T, r, \\sigma^{\\text{imp}}) = C^{*}$$\n",
    "\n",
    "Since, there does not exist a closed form to solve for $\\sigma^{\\text{imp}}$ we use,\n",
    "\n",
    "$$\\sigma^{\\text{imp}}_{n+1} = \\sigma^{\\text{imp}}_{n} - \\frac{C(\\sigma^{\\text{imp}}_{n}) - C^{*}}{\\frac{\\partial \\sigma^{\\text{imp}}_{n} }{\\partial \\sigma^{\\text{imp}}_{n}}} $$"
   ]
  },
  {
   "cell_type": "code",
   "execution_count": 1,
   "metadata": {},
   "outputs": [],
   "source": [
    "from math import sqrt, log, exp\n",
    "from scipy import stats\n",
    "import pandas as pd"
   ]
  },
  {
   "cell_type": "code",
   "execution_count": 2,
   "metadata": {},
   "outputs": [],
   "source": [
    "def bs_val(s0,k,t,r,s):\n",
    "    d1 = (log(s0/k) + (r + (0.5 * (s**2)) * t))/(s*sqrt(t))\n",
    "    d2 = d1\n",
    "    val = (s*stats.norm.cdf(d1,0.0,1.0)) - k * epx(-r*t) * stats.norm.cdf(d2,0.0,1.0)\n",
    "    return val\n",
    "def bs_vega(s0,k,t,r,s):\n",
    "    d1 = (log(s0/k) + (r + (0.5 * (s**2)) * t))/(s*sqrt(t))\n",
    "    vega = S0 * stats.norm.cdf(d1, 0.0, 1.0) * sqrt(T)\n",
    "    return vega\n",
    "def bs_cal_imp_vol(s0,k,t,r,c0, s_est, it):\n",
    "    for i in range(it):\n",
    "        s_est -= ((bsm_call_value(S0, K, T, r, sigma_est) - C0) / bsm_vega(S0, K, T, r, sigma_est))\n",
    "    return s_est"
   ]
  }
 ],
 "metadata": {
  "kernelspec": {
   "display_name": "Python 3",
   "language": "python",
   "name": "python3"
  },
  "language_info": {
   "codemirror_mode": {
    "name": "ipython",
    "version": 3
   },
   "file_extension": ".py",
   "mimetype": "text/x-python",
   "name": "python",
   "nbconvert_exporter": "python",
   "pygments_lexer": "ipython3",
   "version": "3.9.0"
  }
 },
 "nbformat": 4,
 "nbformat_minor": 4
}
